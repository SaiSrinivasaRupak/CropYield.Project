{
 "cells": [
  {
   "cell_type": "code",
   "execution_count": 3,
   "id": "b8921882-9c51-4815-9aa5-b0fc11013364",
   "metadata": {},
   "outputs": [
    {
     "name": "stdout",
     "output_type": "stream",
     "text": [
      "jaisairam\n"
     ]
    }
   ],
   "source": [
    "print('jaisairam')"
   ]
  },
  {
   "cell_type": "code",
   "execution_count": 4,
   "id": "bcbb8886-54f1-44c1-aca9-3d9ee25b2b41",
   "metadata": {},
   "outputs": [],
   "source": [
    "import pandas as pd"
   ]
  },
  {
   "cell_type": "code",
   "execution_count": 5,
   "id": "c19f5357-9af8-41b1-9752-28dee01300b1",
   "metadata": {},
   "outputs": [],
   "source": [
    "df=pd.read_csv(\"Crop Predictionss.csv\")"
   ]
  },
  {
   "cell_type": "code",
   "execution_count": 6,
   "id": "959178be-2fda-40c1-8df1-fd2a754d42c1",
   "metadata": {},
   "outputs": [
    {
     "data": {
      "text/html": [
       "<div>\n",
       "<style scoped>\n",
       "    .dataframe tbody tr th:only-of-type {\n",
       "        vertical-align: middle;\n",
       "    }\n",
       "\n",
       "    .dataframe tbody tr th {\n",
       "        vertical-align: top;\n",
       "    }\n",
       "\n",
       "    .dataframe thead th {\n",
       "        text-align: right;\n",
       "    }\n",
       "</style>\n",
       "<table border=\"1\" class=\"dataframe\">\n",
       "  <thead>\n",
       "    <tr style=\"text-align: right;\">\n",
       "      <th></th>\n",
       "      <th>Crop_Year</th>\n",
       "      <th>Crop</th>\n",
       "      <th>Temperature</th>\n",
       "      <th>Humidity</th>\n",
       "      <th>Soil_Moisture</th>\n",
       "      <th>Area</th>\n",
       "      <th>Production</th>\n",
       "    </tr>\n",
       "  </thead>\n",
       "  <tbody>\n",
       "    <tr>\n",
       "      <th>0</th>\n",
       "      <td>2000</td>\n",
       "      <td>Bajra</td>\n",
       "      <td>37</td>\n",
       "      <td>40</td>\n",
       "      <td>46</td>\n",
       "      <td>2477</td>\n",
       "      <td>1449.0</td>\n",
       "    </tr>\n",
       "    <tr>\n",
       "      <th>1</th>\n",
       "      <td>2000</td>\n",
       "      <td>Castor seed</td>\n",
       "      <td>36</td>\n",
       "      <td>41</td>\n",
       "      <td>50</td>\n",
       "      <td>9315</td>\n",
       "      <td>2831.0</td>\n",
       "    </tr>\n",
       "    <tr>\n",
       "      <th>2</th>\n",
       "      <td>2000</td>\n",
       "      <td>Cotton</td>\n",
       "      <td>37</td>\n",
       "      <td>42</td>\n",
       "      <td>55</td>\n",
       "      <td>12025</td>\n",
       "      <td>16128.0</td>\n",
       "    </tr>\n",
       "    <tr>\n",
       "      <th>3</th>\n",
       "      <td>2000</td>\n",
       "      <td>Dry chillies</td>\n",
       "      <td>36</td>\n",
       "      <td>40</td>\n",
       "      <td>54</td>\n",
       "      <td>3755</td>\n",
       "      <td>10146.0</td>\n",
       "    </tr>\n",
       "    <tr>\n",
       "      <th>4</th>\n",
       "      <td>2000</td>\n",
       "      <td>Gram</td>\n",
       "      <td>34</td>\n",
       "      <td>45</td>\n",
       "      <td>52</td>\n",
       "      <td>21</td>\n",
       "      <td>14.0</td>\n",
       "    </tr>\n",
       "  </tbody>\n",
       "</table>\n",
       "</div>"
      ],
      "text/plain": [
       "   Crop_Year          Crop  Temperature  Humidity  Soil_Moisture   Area  \\\n",
       "0       2000         Bajra           37        40             46   2477   \n",
       "1       2000   Castor seed           36        41             50   9315   \n",
       "2       2000        Cotton           37        42             55  12025   \n",
       "3       2000  Dry chillies           36        40             54   3755   \n",
       "4       2000          Gram           34        45             52     21   \n",
       "\n",
       "   Production  \n",
       "0      1449.0  \n",
       "1      2831.0  \n",
       "2     16128.0  \n",
       "3     10146.0  \n",
       "4        14.0  "
      ]
     },
     "execution_count": 6,
     "metadata": {},
     "output_type": "execute_result"
    }
   ],
   "source": [
    "df.head()"
   ]
  },
  {
   "cell_type": "code",
   "execution_count": 7,
   "id": "0b390d8a-a750-4ee2-b100-febacece05cd",
   "metadata": {},
   "outputs": [
    {
     "data": {
      "text/html": [
       "<div>\n",
       "<style scoped>\n",
       "    .dataframe tbody tr th:only-of-type {\n",
       "        vertical-align: middle;\n",
       "    }\n",
       "\n",
       "    .dataframe tbody tr th {\n",
       "        vertical-align: top;\n",
       "    }\n",
       "\n",
       "    .dataframe thead th {\n",
       "        text-align: right;\n",
       "    }\n",
       "</style>\n",
       "<table border=\"1\" class=\"dataframe\">\n",
       "  <thead>\n",
       "    <tr style=\"text-align: right;\">\n",
       "      <th></th>\n",
       "      <th>Crop_Year</th>\n",
       "      <th>Crop</th>\n",
       "      <th>Temperature</th>\n",
       "      <th>Humidity</th>\n",
       "      <th>Soil_Moisture</th>\n",
       "      <th>Area</th>\n",
       "      <th>Production</th>\n",
       "    </tr>\n",
       "  </thead>\n",
       "  <tbody>\n",
       "    <tr>\n",
       "      <th>25552</th>\n",
       "      <td>2006</td>\n",
       "      <td>Small millets</td>\n",
       "      <td>36</td>\n",
       "      <td>35</td>\n",
       "      <td>45</td>\n",
       "      <td>27</td>\n",
       "      <td>7.0</td>\n",
       "    </tr>\n",
       "    <tr>\n",
       "      <th>25553</th>\n",
       "      <td>2006</td>\n",
       "      <td>Soyabean</td>\n",
       "      <td>37</td>\n",
       "      <td>40</td>\n",
       "      <td>46</td>\n",
       "      <td>27</td>\n",
       "      <td>32.0</td>\n",
       "    </tr>\n",
       "    <tr>\n",
       "      <th>25554</th>\n",
       "      <td>2006</td>\n",
       "      <td>Sunflower</td>\n",
       "      <td>36</td>\n",
       "      <td>41</td>\n",
       "      <td>50</td>\n",
       "      <td>450</td>\n",
       "      <td>213.0</td>\n",
       "    </tr>\n",
       "    <tr>\n",
       "      <th>25555</th>\n",
       "      <td>2006</td>\n",
       "      <td>Urad</td>\n",
       "      <td>37</td>\n",
       "      <td>42</td>\n",
       "      <td>55</td>\n",
       "      <td>1778</td>\n",
       "      <td>309.0</td>\n",
       "    </tr>\n",
       "    <tr>\n",
       "      <th>25556</th>\n",
       "      <td>2006</td>\n",
       "      <td>Gram</td>\n",
       "      <td>36</td>\n",
       "      <td>40</td>\n",
       "      <td>54</td>\n",
       "      <td>216</td>\n",
       "      <td>194.0</td>\n",
       "    </tr>\n",
       "  </tbody>\n",
       "</table>\n",
       "</div>"
      ],
      "text/plain": [
       "       Crop_Year           Crop  Temperature  Humidity  Soil_Moisture  Area  \\\n",
       "25552       2006  Small millets           36        35             45    27   \n",
       "25553       2006       Soyabean           37        40             46    27   \n",
       "25554       2006      Sunflower           36        41             50   450   \n",
       "25555       2006           Urad           37        42             55  1778   \n",
       "25556       2006           Gram           36        40             54   216   \n",
       "\n",
       "       Production  \n",
       "25552         7.0  \n",
       "25553        32.0  \n",
       "25554       213.0  \n",
       "25555       309.0  \n",
       "25556       194.0  "
      ]
     },
     "execution_count": 7,
     "metadata": {},
     "output_type": "execute_result"
    }
   ],
   "source": [
    "df.tail()"
   ]
  },
  {
   "cell_type": "code",
   "execution_count": 8,
   "id": "c6835416-2057-44d1-9613-178e73c74687",
   "metadata": {},
   "outputs": [
    {
     "data": {
      "text/plain": [
       "Crop_Year        0\n",
       "Crop             0\n",
       "Temperature      0\n",
       "Humidity         0\n",
       "Soil_Moisture    0\n",
       "Area             0\n",
       "Production       0\n",
       "dtype: int64"
      ]
     },
     "execution_count": 8,
     "metadata": {},
     "output_type": "execute_result"
    }
   ],
   "source": [
    "df.isnull().sum()"
   ]
  },
  {
   "cell_type": "code",
   "execution_count": 9,
   "id": "f6da3d44-d03f-4232-9d01-cc2e49ed8916",
   "metadata": {},
   "outputs": [
    {
     "name": "stdout",
     "output_type": "stream",
     "text": [
      "<class 'pandas.core.frame.DataFrame'>\n",
      "RangeIndex: 25557 entries, 0 to 25556\n",
      "Data columns (total 7 columns):\n",
      " #   Column         Non-Null Count  Dtype  \n",
      "---  ------         --------------  -----  \n",
      " 0   Crop_Year      25557 non-null  int64  \n",
      " 1   Crop           25557 non-null  object \n",
      " 2   Temperature    25557 non-null  int64  \n",
      " 3   Humidity       25557 non-null  int64  \n",
      " 4   Soil_Moisture  25557 non-null  int64  \n",
      " 5   Area           25557 non-null  int64  \n",
      " 6   Production     25557 non-null  float64\n",
      "dtypes: float64(1), int64(5), object(1)\n",
      "memory usage: 1.4+ MB\n"
     ]
    }
   ],
   "source": [
    "df.info()"
   ]
  },
  {
   "cell_type": "code",
   "execution_count": 10,
   "id": "b71c4c96-f0a1-4413-a60f-6d6387ce1a95",
   "metadata": {},
   "outputs": [
    {
     "data": {
      "text/plain": [
       "0"
      ]
     },
     "execution_count": 10,
     "metadata": {},
     "output_type": "execute_result"
    }
   ],
   "source": [
    "df.Crop.isnull().sum()"
   ]
  },
  {
   "cell_type": "code",
   "execution_count": 11,
   "id": "e8223336-842a-41e6-b3d3-2f2f2559c816",
   "metadata": {},
   "outputs": [
    {
     "data": {
      "text/plain": [
       "Crop_Year\n",
       "2013    2175\n",
       "2012    2093\n",
       "2014    2064\n",
       "2011    1950\n",
       "2003    1709\n",
       "2002    1706\n",
       "2010    1653\n",
       "2008    1651\n",
       "2009    1641\n",
       "2006    1585\n",
       "2005    1566\n",
       "2001    1505\n",
       "2000    1426\n",
       "2007    1419\n",
       "2004    1414\n",
       "Name: count, dtype: int64"
      ]
     },
     "execution_count": 11,
     "metadata": {},
     "output_type": "execute_result"
    }
   ],
   "source": [
    "df['Crop_Year'].value_counts()"
   ]
  },
  {
   "cell_type": "code",
   "execution_count": 12,
   "id": "14d02deb-3030-4de9-9bb7-9c96a44fd3df",
   "metadata": {},
   "outputs": [],
   "source": [
    "Crop_dict = {\n",
    "    'Arecanut': 1,\n",
    "    'Bajra': 2,\n",
    "    'Banana': 3,\n",
    "    'Bhindi': 4,\n",
    "    'Black pepper': 5,\n",
    "    'Brinjal': 6,\n",
    "    'Cabbage': 7,\n",
    "    'Cashewnut': 8,\n",
    "    'Castor seed': 9,\n",
    "    'Citrus Fruit': 10,\n",
    "    'Coconut': 11,\n",
    "    'Coriander': 12,\n",
    "    'Cotton': 13,\n",
    "    'Cowpea': 14,\n",
    "    'Dry chillies': 15,\n",
    "    'Dry ginger': 16,\n",
    "    'Garlic': 17,\n",
    "    'Ginger': 18,\n",
    "    'Gram': 19,\n",
    "    'Grapes': 20,\n",
    "    'Groundnut': 21,\n",
    "    'Horsegram': 22,\n",
    "    'Jowar': 23,\n",
    "    'Jute': 24,\n",
    "    'Khesari': 25,\n",
    "    'Korra': 26,\n",
    "    'Lemon': 27,\n",
    "    'Linseed': 28,\n",
    "    'Maize': 29,\n",
    "    'Mango': 30,\n",
    "    'Masoor': 31,\n",
    "    'Mesta': 32,\n",
    "    'Moong': 33,\n",
    "    'Niger seed': 34,\n",
    "    'Onion': 35,\n",
    "    'Orange': 36,\n",
    "    'Paddy': 37,\n",
    "    'Papaya': 38,\n",
    "    'Peas beans': 39,\n",
    "    'Pineapple': 40,\n",
    "    'Pome Fruit': 41,\n",
    "    'Pome Granet': 42,\n",
    "    'Potato': 43,\n",
    "    'Urad': 44,\n",
    "    'Varagu': 45,\n",
    "    'Wheat': 46,\n",
    "    'Turmeric': 47,\n",
    "    'Tapioca': 48,\n",
    "    'Tobacco': 49,\n",
    "    'Sugarcane': 50,\n",
    "    'Soyabean': 51,\n",
    "    'Sunflower': 52,\n",
    "    'Small millets': 53,\n",
    "    'Sweet potato': 54,\n",
    "    'Sapota': 55,\n",
    "    'Sesamum': 56,\n",
    "    'Sannhamp': 57,\n",
    "    'Safflower': 58,\n",
    "    'Samai': 59,\n",
    "    'Rice': 60,\n",
    "    'Ragi': 61,\n",
    "    'Rapeseed Mustard': 62,\n",
    "    'Pulses total': 63,\n",
    "    'Guar seed': 64\n",
    "}\n",
    "\n",
    "df['Crop_num']=df['Crop'].map(Crop_dict)"
   ]
  },
  {
   "cell_type": "code",
   "execution_count": 13,
   "id": "88c77859-8938-4b19-8f50-4d7d83e254a5",
   "metadata": {},
   "outputs": [
    {
     "data": {
      "text/html": [
       "<div>\n",
       "<style scoped>\n",
       "    .dataframe tbody tr th:only-of-type {\n",
       "        vertical-align: middle;\n",
       "    }\n",
       "\n",
       "    .dataframe tbody tr th {\n",
       "        vertical-align: top;\n",
       "    }\n",
       "\n",
       "    .dataframe thead th {\n",
       "        text-align: right;\n",
       "    }\n",
       "</style>\n",
       "<table border=\"1\" class=\"dataframe\">\n",
       "  <thead>\n",
       "    <tr style=\"text-align: right;\">\n",
       "      <th></th>\n",
       "      <th>Crop_Year</th>\n",
       "      <th>Crop</th>\n",
       "      <th>Temperature</th>\n",
       "      <th>Humidity</th>\n",
       "      <th>Soil_Moisture</th>\n",
       "      <th>Area</th>\n",
       "      <th>Production</th>\n",
       "      <th>Crop_num</th>\n",
       "    </tr>\n",
       "  </thead>\n",
       "  <tbody>\n",
       "    <tr>\n",
       "      <th>0</th>\n",
       "      <td>2000</td>\n",
       "      <td>Bajra</td>\n",
       "      <td>37</td>\n",
       "      <td>40</td>\n",
       "      <td>46</td>\n",
       "      <td>2477</td>\n",
       "      <td>1449.0</td>\n",
       "      <td>2.0</td>\n",
       "    </tr>\n",
       "    <tr>\n",
       "      <th>1</th>\n",
       "      <td>2000</td>\n",
       "      <td>Castor seed</td>\n",
       "      <td>36</td>\n",
       "      <td>41</td>\n",
       "      <td>50</td>\n",
       "      <td>9315</td>\n",
       "      <td>2831.0</td>\n",
       "      <td>9.0</td>\n",
       "    </tr>\n",
       "    <tr>\n",
       "      <th>2</th>\n",
       "      <td>2000</td>\n",
       "      <td>Cotton</td>\n",
       "      <td>37</td>\n",
       "      <td>42</td>\n",
       "      <td>55</td>\n",
       "      <td>12025</td>\n",
       "      <td>16128.0</td>\n",
       "      <td>13.0</td>\n",
       "    </tr>\n",
       "    <tr>\n",
       "      <th>3</th>\n",
       "      <td>2000</td>\n",
       "      <td>Dry chillies</td>\n",
       "      <td>36</td>\n",
       "      <td>40</td>\n",
       "      <td>54</td>\n",
       "      <td>3755</td>\n",
       "      <td>10146.0</td>\n",
       "      <td>15.0</td>\n",
       "    </tr>\n",
       "    <tr>\n",
       "      <th>4</th>\n",
       "      <td>2000</td>\n",
       "      <td>Gram</td>\n",
       "      <td>34</td>\n",
       "      <td>45</td>\n",
       "      <td>52</td>\n",
       "      <td>21</td>\n",
       "      <td>14.0</td>\n",
       "      <td>19.0</td>\n",
       "    </tr>\n",
       "    <tr>\n",
       "      <th>5</th>\n",
       "      <td>2000</td>\n",
       "      <td>Groundnut</td>\n",
       "      <td>34</td>\n",
       "      <td>55</td>\n",
       "      <td>62</td>\n",
       "      <td>791559</td>\n",
       "      <td>884963.0</td>\n",
       "      <td>21.0</td>\n",
       "    </tr>\n",
       "    <tr>\n",
       "      <th>6</th>\n",
       "      <td>2000</td>\n",
       "      <td>Horsegram</td>\n",
       "      <td>35</td>\n",
       "      <td>50</td>\n",
       "      <td>59</td>\n",
       "      <td>601</td>\n",
       "      <td>215.0</td>\n",
       "      <td>22.0</td>\n",
       "    </tr>\n",
       "    <tr>\n",
       "      <th>7</th>\n",
       "      <td>2000</td>\n",
       "      <td>Jowar</td>\n",
       "      <td>25</td>\n",
       "      <td>55</td>\n",
       "      <td>55</td>\n",
       "      <td>5071</td>\n",
       "      <td>14351.0</td>\n",
       "      <td>23.0</td>\n",
       "    </tr>\n",
       "    <tr>\n",
       "      <th>8</th>\n",
       "      <td>2000</td>\n",
       "      <td>Korra</td>\n",
       "      <td>36</td>\n",
       "      <td>35</td>\n",
       "      <td>45</td>\n",
       "      <td>1626</td>\n",
       "      <td>1143.0</td>\n",
       "      <td>26.0</td>\n",
       "    </tr>\n",
       "    <tr>\n",
       "      <th>9</th>\n",
       "      <td>2000</td>\n",
       "      <td>Maize</td>\n",
       "      <td>37</td>\n",
       "      <td>40</td>\n",
       "      <td>46</td>\n",
       "      <td>3475</td>\n",
       "      <td>9049.0</td>\n",
       "      <td>29.0</td>\n",
       "    </tr>\n",
       "    <tr>\n",
       "      <th>10</th>\n",
       "      <td>2000</td>\n",
       "      <td>Moong</td>\n",
       "      <td>36</td>\n",
       "      <td>41</td>\n",
       "      <td>50</td>\n",
       "      <td>1744</td>\n",
       "      <td>774.0</td>\n",
       "      <td>33.0</td>\n",
       "    </tr>\n",
       "    <tr>\n",
       "      <th>11</th>\n",
       "      <td>2000</td>\n",
       "      <td>Onion</td>\n",
       "      <td>37</td>\n",
       "      <td>42</td>\n",
       "      <td>55</td>\n",
       "      <td>1103</td>\n",
       "      <td>15470.0</td>\n",
       "      <td>35.0</td>\n",
       "    </tr>\n",
       "    <tr>\n",
       "      <th>12</th>\n",
       "      <td>2000</td>\n",
       "      <td>Ragi</td>\n",
       "      <td>34</td>\n",
       "      <td>55</td>\n",
       "      <td>62</td>\n",
       "      <td>6613</td>\n",
       "      <td>16923.0</td>\n",
       "      <td>61.0</td>\n",
       "    </tr>\n",
       "    <tr>\n",
       "      <th>13</th>\n",
       "      <td>2000</td>\n",
       "      <td>Rice</td>\n",
       "      <td>35</td>\n",
       "      <td>50</td>\n",
       "      <td>59</td>\n",
       "      <td>39905</td>\n",
       "      <td>117680.0</td>\n",
       "      <td>60.0</td>\n",
       "    </tr>\n",
       "    <tr>\n",
       "      <th>14</th>\n",
       "      <td>2000</td>\n",
       "      <td>Samai</td>\n",
       "      <td>25</td>\n",
       "      <td>55</td>\n",
       "      <td>55</td>\n",
       "      <td>21</td>\n",
       "      <td>5.0</td>\n",
       "      <td>59.0</td>\n",
       "    </tr>\n",
       "    <tr>\n",
       "      <th>15</th>\n",
       "      <td>2000</td>\n",
       "      <td>Sesamum</td>\n",
       "      <td>36</td>\n",
       "      <td>35</td>\n",
       "      <td>45</td>\n",
       "      <td>5</td>\n",
       "      <td>1.0</td>\n",
       "      <td>56.0</td>\n",
       "    </tr>\n",
       "    <tr>\n",
       "      <th>16</th>\n",
       "      <td>2000</td>\n",
       "      <td>Small millets</td>\n",
       "      <td>37</td>\n",
       "      <td>40</td>\n",
       "      <td>46</td>\n",
       "      <td>1647</td>\n",
       "      <td>1148.0</td>\n",
       "      <td>53.0</td>\n",
       "    </tr>\n",
       "    <tr>\n",
       "      <th>17</th>\n",
       "      <td>2000</td>\n",
       "      <td>Sunflower</td>\n",
       "      <td>36</td>\n",
       "      <td>41</td>\n",
       "      <td>50</td>\n",
       "      <td>30606</td>\n",
       "      <td>24590.0</td>\n",
       "      <td>52.0</td>\n",
       "    </tr>\n",
       "    <tr>\n",
       "      <th>18</th>\n",
       "      <td>2000</td>\n",
       "      <td>Urad</td>\n",
       "      <td>37</td>\n",
       "      <td>42</td>\n",
       "      <td>55</td>\n",
       "      <td>135</td>\n",
       "      <td>8.0</td>\n",
       "      <td>44.0</td>\n",
       "    </tr>\n",
       "    <tr>\n",
       "      <th>19</th>\n",
       "      <td>2000</td>\n",
       "      <td>Bajra</td>\n",
       "      <td>34</td>\n",
       "      <td>45</td>\n",
       "      <td>52</td>\n",
       "      <td>317</td>\n",
       "      <td>185.0</td>\n",
       "      <td>2.0</td>\n",
       "    </tr>\n",
       "  </tbody>\n",
       "</table>\n",
       "</div>"
      ],
      "text/plain": [
       "    Crop_Year           Crop  Temperature  Humidity  Soil_Moisture    Area  \\\n",
       "0        2000          Bajra           37        40             46    2477   \n",
       "1        2000    Castor seed           36        41             50    9315   \n",
       "2        2000         Cotton           37        42             55   12025   \n",
       "3        2000   Dry chillies           36        40             54    3755   \n",
       "4        2000           Gram           34        45             52      21   \n",
       "5        2000      Groundnut           34        55             62  791559   \n",
       "6        2000      Horsegram           35        50             59     601   \n",
       "7        2000          Jowar           25        55             55    5071   \n",
       "8        2000          Korra           36        35             45    1626   \n",
       "9        2000          Maize           37        40             46    3475   \n",
       "10       2000          Moong           36        41             50    1744   \n",
       "11       2000          Onion           37        42             55    1103   \n",
       "12       2000           Ragi           34        55             62    6613   \n",
       "13       2000           Rice           35        50             59   39905   \n",
       "14       2000          Samai           25        55             55      21   \n",
       "15       2000        Sesamum           36        35             45       5   \n",
       "16       2000  Small millets           37        40             46    1647   \n",
       "17       2000      Sunflower           36        41             50   30606   \n",
       "18       2000           Urad           37        42             55     135   \n",
       "19       2000          Bajra           34        45             52     317   \n",
       "\n",
       "    Production  Crop_num  \n",
       "0       1449.0       2.0  \n",
       "1       2831.0       9.0  \n",
       "2      16128.0      13.0  \n",
       "3      10146.0      15.0  \n",
       "4         14.0      19.0  \n",
       "5     884963.0      21.0  \n",
       "6        215.0      22.0  \n",
       "7      14351.0      23.0  \n",
       "8       1143.0      26.0  \n",
       "9       9049.0      29.0  \n",
       "10       774.0      33.0  \n",
       "11     15470.0      35.0  \n",
       "12     16923.0      61.0  \n",
       "13    117680.0      60.0  \n",
       "14         5.0      59.0  \n",
       "15         1.0      56.0  \n",
       "16      1148.0      53.0  \n",
       "17     24590.0      52.0  \n",
       "18         8.0      44.0  \n",
       "19       185.0       2.0  "
      ]
     },
     "execution_count": 13,
     "metadata": {},
     "output_type": "execute_result"
    }
   ],
   "source": [
    "df.head(20)"
   ]
  },
  {
   "cell_type": "code",
   "execution_count": 14,
   "id": "ac5f9a8e-3526-4537-aa07-fe35175e3d4f",
   "metadata": {},
   "outputs": [
    {
     "data": {
      "text/plain": [
       "Crop_num\n",
       "60.0    1894\n",
       "29.0    1090\n",
       "15.0    1087\n",
       "33.0     955\n",
       "44.0     939\n",
       "        ... \n",
       "10.0      24\n",
       "42.0      21\n",
       "20.0      17\n",
       "45.0       9\n",
       "64.0       1\n",
       "Name: count, Length: 63, dtype: int64"
      ]
     },
     "execution_count": 14,
     "metadata": {},
     "output_type": "execute_result"
    }
   ],
   "source": [
    "df['Crop_num'].value_counts()"
   ]
  },
  {
   "cell_type": "code",
   "execution_count": 15,
   "id": "47f6dc84-33ba-4e57-89bf-1558bd10eef0",
   "metadata": {},
   "outputs": [
    {
     "data": {
      "text/plain": [
       "694"
      ]
     },
     "execution_count": 15,
     "metadata": {},
     "output_type": "execute_result"
    }
   ],
   "source": [
    "df.Crop_num.isnull().sum()"
   ]
  },
  {
   "cell_type": "code",
   "execution_count": 16,
   "id": "e25e69e7-60de-4400-8f5a-d804dcc1086d",
   "metadata": {},
   "outputs": [],
   "source": [
    "mean_value = df['Crop_num'].mean()\n",
    "df['Crop_num'].fillna(mean_value, inplace=True)"
   ]
  },
  {
   "cell_type": "code",
   "execution_count": 17,
   "id": "553066d0-f952-4aeb-b344-25ba6c3cf944",
   "metadata": {},
   "outputs": [
    {
     "data": {
      "text/plain": [
       "0"
      ]
     },
     "execution_count": 17,
     "metadata": {},
     "output_type": "execute_result"
    }
   ],
   "source": [
    "df.Crop_num.isnull().sum()"
   ]
  },
  {
   "cell_type": "code",
   "execution_count": 18,
   "id": "6598edad-5fa6-436a-b787-1152725bbdf3",
   "metadata": {},
   "outputs": [],
   "source": [
    "df.drop(columns=['Crop'], inplace=True)"
   ]
  },
  {
   "cell_type": "code",
   "execution_count": 19,
   "id": "152625b6-5bc3-4313-8334-d8ede99532f5",
   "metadata": {},
   "outputs": [
    {
     "data": {
      "text/html": [
       "<div>\n",
       "<style scoped>\n",
       "    .dataframe tbody tr th:only-of-type {\n",
       "        vertical-align: middle;\n",
       "    }\n",
       "\n",
       "    .dataframe tbody tr th {\n",
       "        vertical-align: top;\n",
       "    }\n",
       "\n",
       "    .dataframe thead th {\n",
       "        text-align: right;\n",
       "    }\n",
       "</style>\n",
       "<table border=\"1\" class=\"dataframe\">\n",
       "  <thead>\n",
       "    <tr style=\"text-align: right;\">\n",
       "      <th></th>\n",
       "      <th>Crop_Year</th>\n",
       "      <th>Temperature</th>\n",
       "      <th>Humidity</th>\n",
       "      <th>Soil_Moisture</th>\n",
       "      <th>Area</th>\n",
       "      <th>Production</th>\n",
       "      <th>Crop_num</th>\n",
       "    </tr>\n",
       "  </thead>\n",
       "  <tbody>\n",
       "    <tr>\n",
       "      <th>0</th>\n",
       "      <td>2000</td>\n",
       "      <td>37</td>\n",
       "      <td>40</td>\n",
       "      <td>46</td>\n",
       "      <td>2477</td>\n",
       "      <td>1449.0</td>\n",
       "      <td>2.0</td>\n",
       "    </tr>\n",
       "    <tr>\n",
       "      <th>1</th>\n",
       "      <td>2000</td>\n",
       "      <td>36</td>\n",
       "      <td>41</td>\n",
       "      <td>50</td>\n",
       "      <td>9315</td>\n",
       "      <td>2831.0</td>\n",
       "      <td>9.0</td>\n",
       "    </tr>\n",
       "    <tr>\n",
       "      <th>2</th>\n",
       "      <td>2000</td>\n",
       "      <td>37</td>\n",
       "      <td>42</td>\n",
       "      <td>55</td>\n",
       "      <td>12025</td>\n",
       "      <td>16128.0</td>\n",
       "      <td>13.0</td>\n",
       "    </tr>\n",
       "    <tr>\n",
       "      <th>3</th>\n",
       "      <td>2000</td>\n",
       "      <td>36</td>\n",
       "      <td>40</td>\n",
       "      <td>54</td>\n",
       "      <td>3755</td>\n",
       "      <td>10146.0</td>\n",
       "      <td>15.0</td>\n",
       "    </tr>\n",
       "    <tr>\n",
       "      <th>4</th>\n",
       "      <td>2000</td>\n",
       "      <td>34</td>\n",
       "      <td>45</td>\n",
       "      <td>52</td>\n",
       "      <td>21</td>\n",
       "      <td>14.0</td>\n",
       "      <td>19.0</td>\n",
       "    </tr>\n",
       "  </tbody>\n",
       "</table>\n",
       "</div>"
      ],
      "text/plain": [
       "   Crop_Year  Temperature  Humidity  Soil_Moisture   Area  Production  \\\n",
       "0       2000           37        40             46   2477      1449.0   \n",
       "1       2000           36        41             50   9315      2831.0   \n",
       "2       2000           37        42             55  12025     16128.0   \n",
       "3       2000           36        40             54   3755     10146.0   \n",
       "4       2000           34        45             52     21        14.0   \n",
       "\n",
       "   Crop_num  \n",
       "0       2.0  \n",
       "1       9.0  \n",
       "2      13.0  \n",
       "3      15.0  \n",
       "4      19.0  "
      ]
     },
     "execution_count": 19,
     "metadata": {},
     "output_type": "execute_result"
    }
   ],
   "source": [
    "df.head()"
   ]
  },
  {
   "cell_type": "code",
   "execution_count": 20,
   "id": "19bb0a8e",
   "metadata": {},
   "outputs": [
    {
     "data": {
      "text/html": [
       "<div>\n",
       "<style scoped>\n",
       "    .dataframe tbody tr th:only-of-type {\n",
       "        vertical-align: middle;\n",
       "    }\n",
       "\n",
       "    .dataframe tbody tr th {\n",
       "        vertical-align: top;\n",
       "    }\n",
       "\n",
       "    .dataframe thead th {\n",
       "        text-align: right;\n",
       "    }\n",
       "</style>\n",
       "<table border=\"1\" class=\"dataframe\">\n",
       "  <thead>\n",
       "    <tr style=\"text-align: right;\">\n",
       "      <th></th>\n",
       "      <th>Crop_Year</th>\n",
       "      <th>Temperature</th>\n",
       "      <th>Humidity</th>\n",
       "      <th>Soil_Moisture</th>\n",
       "      <th>Area</th>\n",
       "      <th>Production</th>\n",
       "      <th>Crop_num</th>\n",
       "    </tr>\n",
       "  </thead>\n",
       "  <tbody>\n",
       "    <tr>\n",
       "      <th>25552</th>\n",
       "      <td>2006</td>\n",
       "      <td>36</td>\n",
       "      <td>35</td>\n",
       "      <td>45</td>\n",
       "      <td>27</td>\n",
       "      <td>7.0</td>\n",
       "      <td>53.0</td>\n",
       "    </tr>\n",
       "    <tr>\n",
       "      <th>25553</th>\n",
       "      <td>2006</td>\n",
       "      <td>37</td>\n",
       "      <td>40</td>\n",
       "      <td>46</td>\n",
       "      <td>27</td>\n",
       "      <td>32.0</td>\n",
       "      <td>51.0</td>\n",
       "    </tr>\n",
       "    <tr>\n",
       "      <th>25554</th>\n",
       "      <td>2006</td>\n",
       "      <td>36</td>\n",
       "      <td>41</td>\n",
       "      <td>50</td>\n",
       "      <td>450</td>\n",
       "      <td>213.0</td>\n",
       "      <td>52.0</td>\n",
       "    </tr>\n",
       "    <tr>\n",
       "      <th>25555</th>\n",
       "      <td>2006</td>\n",
       "      <td>37</td>\n",
       "      <td>42</td>\n",
       "      <td>55</td>\n",
       "      <td>1778</td>\n",
       "      <td>309.0</td>\n",
       "      <td>44.0</td>\n",
       "    </tr>\n",
       "    <tr>\n",
       "      <th>25556</th>\n",
       "      <td>2006</td>\n",
       "      <td>36</td>\n",
       "      <td>40</td>\n",
       "      <td>54</td>\n",
       "      <td>216</td>\n",
       "      <td>194.0</td>\n",
       "      <td>19.0</td>\n",
       "    </tr>\n",
       "  </tbody>\n",
       "</table>\n",
       "</div>"
      ],
      "text/plain": [
       "       Crop_Year  Temperature  Humidity  Soil_Moisture  Area  Production  \\\n",
       "25552       2006           36        35             45    27         7.0   \n",
       "25553       2006           37        40             46    27        32.0   \n",
       "25554       2006           36        41             50   450       213.0   \n",
       "25555       2006           37        42             55  1778       309.0   \n",
       "25556       2006           36        40             54   216       194.0   \n",
       "\n",
       "       Crop_num  \n",
       "25552      53.0  \n",
       "25553      51.0  \n",
       "25554      52.0  \n",
       "25555      44.0  \n",
       "25556      19.0  "
      ]
     },
     "execution_count": 20,
     "metadata": {},
     "output_type": "execute_result"
    }
   ],
   "source": [
    "df.tail()"
   ]
  },
  {
   "cell_type": "code",
   "execution_count": 21,
   "id": "67e7dd09-22a0-4a51-abd0-6fa26cc8fedb",
   "metadata": {},
   "outputs": [],
   "source": [
    "X=df.drop(\"Production\",axis=1)\n",
    "y=df[\"Production\"]"
   ]
  },
  {
   "cell_type": "code",
   "execution_count": 22,
   "id": "c788233b-a140-48d0-a18b-b80ee2b82cf6",
   "metadata": {},
   "outputs": [
    {
     "name": "stdout",
     "output_type": "stream",
     "text": [
      "<class 'pandas.core.frame.DataFrame'>\n",
      "RangeIndex: 25557 entries, 0 to 25556\n",
      "Data columns (total 6 columns):\n",
      " #   Column         Non-Null Count  Dtype  \n",
      "---  ------         --------------  -----  \n",
      " 0   Crop_Year      25557 non-null  int64  \n",
      " 1   Temperature    25557 non-null  int64  \n",
      " 2   Humidity       25557 non-null  int64  \n",
      " 3   Soil_Moisture  25557 non-null  int64  \n",
      " 4   Area           25557 non-null  int64  \n",
      " 5   Crop_num       25557 non-null  float64\n",
      "dtypes: float64(1), int64(5)\n",
      "memory usage: 1.2 MB\n"
     ]
    }
   ],
   "source": [
    "X.info()"
   ]
  },
  {
   "cell_type": "code",
   "execution_count": 23,
   "id": "40ca55b6-cee6-4af9-95db-5b331dead362",
   "metadata": {},
   "outputs": [
    {
     "name": "stdout",
     "output_type": "stream",
     "text": [
      "<class 'pandas.core.series.Series'>\n",
      "RangeIndex: 25557 entries, 0 to 25556\n",
      "Series name: Production\n",
      "Non-Null Count  Dtype  \n",
      "--------------  -----  \n",
      "25557 non-null  float64\n",
      "dtypes: float64(1)\n",
      "memory usage: 199.8 KB\n"
     ]
    }
   ],
   "source": [
    "y.info()"
   ]
  },
  {
   "cell_type": "code",
   "execution_count": 24,
   "id": "d7652e15-c4de-43e9-a67c-58aa377e7f0d",
   "metadata": {},
   "outputs": [],
   "source": [
    "from sklearn.model_selection import train_test_split"
   ]
  },
  {
   "cell_type": "code",
   "execution_count": 25,
   "id": "835839ea-eb3f-4f59-a7ae-e2d42e8ad447",
   "metadata": {},
   "outputs": [],
   "source": [
    "X_train, X_test, y_train, y_test = train_test_split(X,y,test_size = 0.3,random_state =42)"
   ]
  },
  {
   "cell_type": "code",
   "execution_count": 26,
   "id": "e21d1cc7-83fa-450c-9071-504bb4b6442b",
   "metadata": {},
   "outputs": [
    {
     "data": {
      "text/plain": [
       "(17889, 6)"
      ]
     },
     "execution_count": 26,
     "metadata": {},
     "output_type": "execute_result"
    }
   ],
   "source": [
    "X_train.shape"
   ]
  },
  {
   "cell_type": "code",
   "execution_count": 27,
   "id": "bdf3a12b-7654-4f97-99f4-0c26d986903c",
   "metadata": {},
   "outputs": [
    {
     "data": {
      "text/plain": [
       "(17889,)"
      ]
     },
     "execution_count": 27,
     "metadata": {},
     "output_type": "execute_result"
    }
   ],
   "source": [
    "y_train.shape"
   ]
  },
  {
   "cell_type": "code",
   "execution_count": 28,
   "id": "9921206c-7956-4504-acce-9958b73a1262",
   "metadata": {},
   "outputs": [
    {
     "data": {
      "text/plain": [
       "Crop_Year        0\n",
       "Temperature      0\n",
       "Humidity         0\n",
       "Soil_Moisture    0\n",
       "Area             0\n",
       "Crop_num         0\n",
       "dtype: int64"
      ]
     },
     "execution_count": 28,
     "metadata": {},
     "output_type": "execute_result"
    }
   ],
   "source": [
    "X_test.isnull().sum()"
   ]
  },
  {
   "cell_type": "code",
   "execution_count": 29,
   "id": "c3222805-01ec-4391-923a-3dbfec8ef18c",
   "metadata": {},
   "outputs": [
    {
     "data": {
      "text/plain": [
       "0"
      ]
     },
     "execution_count": 29,
     "metadata": {},
     "output_type": "execute_result"
    }
   ],
   "source": [
    "y_test.isnull().sum()"
   ]
  },
  {
   "cell_type": "code",
   "execution_count": 30,
   "id": "199f82b5-a526-4748-9059-6e5a777db9cc",
   "metadata": {},
   "outputs": [
    {
     "data": {
      "text/html": [
       "<div>\n",
       "<style scoped>\n",
       "    .dataframe tbody tr th:only-of-type {\n",
       "        vertical-align: middle;\n",
       "    }\n",
       "\n",
       "    .dataframe tbody tr th {\n",
       "        vertical-align: top;\n",
       "    }\n",
       "\n",
       "    .dataframe thead th {\n",
       "        text-align: right;\n",
       "    }\n",
       "</style>\n",
       "<table border=\"1\" class=\"dataframe\">\n",
       "  <thead>\n",
       "    <tr style=\"text-align: right;\">\n",
       "      <th></th>\n",
       "      <th>Crop_Year</th>\n",
       "      <th>Temperature</th>\n",
       "      <th>Humidity</th>\n",
       "      <th>Soil_Moisture</th>\n",
       "      <th>Area</th>\n",
       "      <th>Crop_num</th>\n",
       "    </tr>\n",
       "  </thead>\n",
       "  <tbody>\n",
       "    <tr>\n",
       "      <th>19605</th>\n",
       "      <td>2011</td>\n",
       "      <td>37</td>\n",
       "      <td>42</td>\n",
       "      <td>55</td>\n",
       "      <td>2741</td>\n",
       "      <td>44.0</td>\n",
       "    </tr>\n",
       "    <tr>\n",
       "      <th>12107</th>\n",
       "      <td>2008</td>\n",
       "      <td>34</td>\n",
       "      <td>55</td>\n",
       "      <td>62</td>\n",
       "      <td>11690</td>\n",
       "      <td>62.0</td>\n",
       "    </tr>\n",
       "    <tr>\n",
       "      <th>361</th>\n",
       "      <td>2009</td>\n",
       "      <td>25</td>\n",
       "      <td>55</td>\n",
       "      <td>55</td>\n",
       "      <td>2420</td>\n",
       "      <td>61.0</td>\n",
       "    </tr>\n",
       "    <tr>\n",
       "      <th>8639</th>\n",
       "      <td>2011</td>\n",
       "      <td>35</td>\n",
       "      <td>50</td>\n",
       "      <td>59</td>\n",
       "      <td>475</td>\n",
       "      <td>46.0</td>\n",
       "    </tr>\n",
       "    <tr>\n",
       "      <th>11807</th>\n",
       "      <td>2013</td>\n",
       "      <td>37</td>\n",
       "      <td>42</td>\n",
       "      <td>55</td>\n",
       "      <td>7791</td>\n",
       "      <td>62.0</td>\n",
       "    </tr>\n",
       "    <tr>\n",
       "      <th>...</th>\n",
       "      <td>...</td>\n",
       "      <td>...</td>\n",
       "      <td>...</td>\n",
       "      <td>...</td>\n",
       "      <td>...</td>\n",
       "      <td>...</td>\n",
       "    </tr>\n",
       "    <tr>\n",
       "      <th>21575</th>\n",
       "      <td>2013</td>\n",
       "      <td>25</td>\n",
       "      <td>55</td>\n",
       "      <td>55</td>\n",
       "      <td>64</td>\n",
       "      <td>56.0</td>\n",
       "    </tr>\n",
       "    <tr>\n",
       "      <th>5390</th>\n",
       "      <td>2010</td>\n",
       "      <td>37</td>\n",
       "      <td>42</td>\n",
       "      <td>55</td>\n",
       "      <td>1278</td>\n",
       "      <td>3.0</td>\n",
       "    </tr>\n",
       "    <tr>\n",
       "      <th>860</th>\n",
       "      <td>2004</td>\n",
       "      <td>25</td>\n",
       "      <td>55</td>\n",
       "      <td>55</td>\n",
       "      <td>23819</td>\n",
       "      <td>21.0</td>\n",
       "    </tr>\n",
       "    <tr>\n",
       "      <th>15795</th>\n",
       "      <td>2007</td>\n",
       "      <td>34</td>\n",
       "      <td>45</td>\n",
       "      <td>52</td>\n",
       "      <td>3260</td>\n",
       "      <td>44.0</td>\n",
       "    </tr>\n",
       "    <tr>\n",
       "      <th>23654</th>\n",
       "      <td>2012</td>\n",
       "      <td>25</td>\n",
       "      <td>55</td>\n",
       "      <td>55</td>\n",
       "      <td>328</td>\n",
       "      <td>34.0</td>\n",
       "    </tr>\n",
       "  </tbody>\n",
       "</table>\n",
       "<p>17889 rows × 6 columns</p>\n",
       "</div>"
      ],
      "text/plain": [
       "       Crop_Year  Temperature  Humidity  Soil_Moisture   Area  Crop_num\n",
       "19605       2011           37        42             55   2741      44.0\n",
       "12107       2008           34        55             62  11690      62.0\n",
       "361         2009           25        55             55   2420      61.0\n",
       "8639        2011           35        50             59    475      46.0\n",
       "11807       2013           37        42             55   7791      62.0\n",
       "...          ...          ...       ...            ...    ...       ...\n",
       "21575       2013           25        55             55     64      56.0\n",
       "5390        2010           37        42             55   1278       3.0\n",
       "860         2004           25        55             55  23819      21.0\n",
       "15795       2007           34        45             52   3260      44.0\n",
       "23654       2012           25        55             55    328      34.0\n",
       "\n",
       "[17889 rows x 6 columns]"
      ]
     },
     "execution_count": 30,
     "metadata": {},
     "output_type": "execute_result"
    }
   ],
   "source": [
    "X_train"
   ]
  },
  {
   "cell_type": "code",
   "execution_count": 28,
   "id": "c6f9f36c-8f0b-4c85-b4bb-496fbaa6ecd0",
   "metadata": {},
   "outputs": [
    {
     "data": {
      "text/plain": [
       "19605     1733.0\n",
       "12107     6301.0\n",
       "361       3780.0\n",
       "8639       867.0\n",
       "11807     3893.0\n",
       "          ...   \n",
       "21575       36.0\n",
       "5390     32579.0\n",
       "860      60381.0\n",
       "15795     1178.0\n",
       "23654       90.0\n",
       "Name: Production, Length: 17889, dtype: float64"
      ]
     },
     "execution_count": 28,
     "metadata": {},
     "output_type": "execute_result"
    }
   ],
   "source": [
    "y_train"
   ]
  },
  {
   "cell_type": "code",
   "execution_count": 29,
   "id": "3b9e108b-2b8e-4aba-a2ba-ec8de0a871f8",
   "metadata": {},
   "outputs": [
    {
     "data": {
      "text/html": [
       "<div>\n",
       "<style scoped>\n",
       "    .dataframe tbody tr th:only-of-type {\n",
       "        vertical-align: middle;\n",
       "    }\n",
       "\n",
       "    .dataframe tbody tr th {\n",
       "        vertical-align: top;\n",
       "    }\n",
       "\n",
       "    .dataframe thead th {\n",
       "        text-align: right;\n",
       "    }\n",
       "</style>\n",
       "<table border=\"1\" class=\"dataframe\">\n",
       "  <thead>\n",
       "    <tr style=\"text-align: right;\">\n",
       "      <th></th>\n",
       "      <th>Crop_Year</th>\n",
       "      <th>Temperature</th>\n",
       "      <th>Humidity</th>\n",
       "      <th>Soil_Moisture</th>\n",
       "      <th>Area</th>\n",
       "      <th>Crop_num</th>\n",
       "    </tr>\n",
       "  </thead>\n",
       "  <tbody>\n",
       "    <tr>\n",
       "      <th>1087</th>\n",
       "      <td>2010</td>\n",
       "      <td>34</td>\n",
       "      <td>55</td>\n",
       "      <td>62</td>\n",
       "      <td>47</td>\n",
       "      <td>47.000000</td>\n",
       "    </tr>\n",
       "    <tr>\n",
       "      <th>13624</th>\n",
       "      <td>2011</td>\n",
       "      <td>25</td>\n",
       "      <td>55</td>\n",
       "      <td>55</td>\n",
       "      <td>96</td>\n",
       "      <td>50.000000</td>\n",
       "    </tr>\n",
       "    <tr>\n",
       "      <th>22950</th>\n",
       "      <td>2012</td>\n",
       "      <td>37</td>\n",
       "      <td>42</td>\n",
       "      <td>55</td>\n",
       "      <td>86689</td>\n",
       "      <td>19.000000</td>\n",
       "    </tr>\n",
       "    <tr>\n",
       "      <th>24559</th>\n",
       "      <td>2011</td>\n",
       "      <td>34</td>\n",
       "      <td>45</td>\n",
       "      <td>52</td>\n",
       "      <td>19589</td>\n",
       "      <td>25.000000</td>\n",
       "    </tr>\n",
       "    <tr>\n",
       "      <th>21649</th>\n",
       "      <td>2005</td>\n",
       "      <td>36</td>\n",
       "      <td>40</td>\n",
       "      <td>54</td>\n",
       "      <td>826</td>\n",
       "      <td>39.000000</td>\n",
       "    </tr>\n",
       "    <tr>\n",
       "      <th>...</th>\n",
       "      <td>...</td>\n",
       "      <td>...</td>\n",
       "      <td>...</td>\n",
       "      <td>...</td>\n",
       "      <td>...</td>\n",
       "      <td>...</td>\n",
       "    </tr>\n",
       "    <tr>\n",
       "      <th>25057</th>\n",
       "      <td>2010</td>\n",
       "      <td>37</td>\n",
       "      <td>42</td>\n",
       "      <td>55</td>\n",
       "      <td>1825</td>\n",
       "      <td>44.000000</td>\n",
       "    </tr>\n",
       "    <tr>\n",
       "      <th>21287</th>\n",
       "      <td>2004</td>\n",
       "      <td>34</td>\n",
       "      <td>45</td>\n",
       "      <td>52</td>\n",
       "      <td>20</td>\n",
       "      <td>24.000000</td>\n",
       "    </tr>\n",
       "    <tr>\n",
       "      <th>1670</th>\n",
       "      <td>2009</td>\n",
       "      <td>35</td>\n",
       "      <td>50</td>\n",
       "      <td>59</td>\n",
       "      <td>501</td>\n",
       "      <td>35.000000</td>\n",
       "    </tr>\n",
       "    <tr>\n",
       "      <th>5427</th>\n",
       "      <td>2011</td>\n",
       "      <td>35</td>\n",
       "      <td>50</td>\n",
       "      <td>59</td>\n",
       "      <td>769</td>\n",
       "      <td>35.676668</td>\n",
       "    </tr>\n",
       "    <tr>\n",
       "      <th>8602</th>\n",
       "      <td>2007</td>\n",
       "      <td>36</td>\n",
       "      <td>41</td>\n",
       "      <td>50</td>\n",
       "      <td>92</td>\n",
       "      <td>53.000000</td>\n",
       "    </tr>\n",
       "  </tbody>\n",
       "</table>\n",
       "<p>7668 rows × 6 columns</p>\n",
       "</div>"
      ],
      "text/plain": [
       "       Crop_Year  Temperature  Humidity  Soil_Moisture   Area   Crop_num\n",
       "1087        2010           34        55             62     47  47.000000\n",
       "13624       2011           25        55             55     96  50.000000\n",
       "22950       2012           37        42             55  86689  19.000000\n",
       "24559       2011           34        45             52  19589  25.000000\n",
       "21649       2005           36        40             54    826  39.000000\n",
       "...          ...          ...       ...            ...    ...        ...\n",
       "25057       2010           37        42             55   1825  44.000000\n",
       "21287       2004           34        45             52     20  24.000000\n",
       "1670        2009           35        50             59    501  35.000000\n",
       "5427        2011           35        50             59    769  35.676668\n",
       "8602        2007           36        41             50     92  53.000000\n",
       "\n",
       "[7668 rows x 6 columns]"
      ]
     },
     "execution_count": 29,
     "metadata": {},
     "output_type": "execute_result"
    }
   ],
   "source": [
    "X_test"
   ]
  },
  {
   "cell_type": "code",
   "execution_count": null,
   "id": "4cb4b625-ca3a-4127-b2f6-83e598f57e49",
   "metadata": {},
   "outputs": [],
   "source": [
    "y_test"
   ]
  },
  {
   "cell_type": "code",
   "execution_count": 60,
   "id": "951357fe-e503-44df-bb08-d17161c4742a",
   "metadata": {},
   "outputs": [
    {
     "name": "stdout",
     "output_type": "stream",
     "text": [
      "17889 17889\n"
     ]
    }
   ],
   "source": [
    "print(len(X_train), len(y_train))"
   ]
  },
  {
   "cell_type": "code",
   "execution_count": 32,
   "id": "40cbd0f5",
   "metadata": {},
   "outputs": [],
   "source": [
    "from sklearn.preprocessing import StandardScaler\n",
    "\n",
    "# Initialize the scaler\n",
    "scaler = StandardScaler()\n",
    "\n",
    "# Fit the scaler to the training data and transform it\n",
    "X_train_scaled = scaler.fit_transform(X_train)\n",
    "\n",
    "# Transform the test data using the fitted scaler\n",
    "X_test_scaled = scaler.transform(X_test)\n"
   ]
  },
  {
   "cell_type": "code",
   "execution_count": null,
   "id": "11bb5247",
   "metadata": {},
   "outputs": [],
   "source": [
    "from sklearn.ensemble import RandomForestRegressor\n",
    "from sklearn.model_selection import GridSearchCV\n",
    "from sklearn.metrics import mean_squared_error\n",
    "\n",
    "# Define the parameter grid\n",
    "param_grid = {\n",
    "    'n_estimators': [100, 200, 300],\n",
    "    'max_depth': [None, 10, 20],\n",
    "    'min_samples_split': [2, 5, 10],\n",
    "    'min_samples_leaf': [1, 2, 4]\n",
    "}\n",
    "\n",
    "# Initialize the RandomForestRegressor\n",
    "rf_model = RandomForestRegressor(random_state=42)\n",
    "\n",
    "# Initialize GridSearchCV\n",
    "grid_search = GridSearchCV(rf_model, param_grid, cv=5, scoring='neg_mean_squared_error')\n",
    "\n",
    "# Fit the model to the training data\n",
    "grid_search.fit(X_train_scaled, y_train)\n",
    "\n",
    "# Get the best parameters\n",
    "best_params = grid_search.best_params_\n",
    "print(\"Best Parameters:\", best_params)\n",
    "\n",
    "# Get the best estimator\n",
    "best_model = grid_search.best_estimator_\n",
    "\n",
    "# Evaluate the best model on the test data\n",
    "y_pred = best_model.predict(X_test_scaled)\n",
    "\n",
    "# Calculate evaluation metrics\n",
    "mse = mean_squared_error(y_test, y_pred)\n",
    "mae = mean_absolute_error(y_test, y_pred)\n",
    "rmse = np.sqrt(mse)\n",
    "\n",
    "print(\"Mean Squared Error:\", mse)\n",
    "print(\"Mean Absolute Error:\", mae)\n",
    "print(\"Root Mean Squared Error:\", rmse)"
   ]
  },
  {
   "cell_type": "code",
   "execution_count": 2,
   "id": "4c53b311-5807-4bff-9c5e-4abefd31f823",
   "metadata": {},
   "outputs": [
    {
     "ename": "NameError",
     "evalue": "name 'X_train' is not defined",
     "output_type": "error",
     "traceback": [
      "\u001b[1;31m---------------------------------------------------------------------------\u001b[0m",
      "\u001b[1;31mNameError\u001b[0m                                 Traceback (most recent call last)",
      "Cell \u001b[1;32mIn[2], line 3\u001b[0m\n\u001b[0;32m      1\u001b[0m \u001b[38;5;28;01mfrom\u001b[39;00m \u001b[38;5;21;01msklearn\u001b[39;00m\u001b[38;5;21;01m.\u001b[39;00m\u001b[38;5;21;01mlinear_model\u001b[39;00m \u001b[38;5;28;01mimport\u001b[39;00m LinearRegression\n\u001b[0;32m      2\u001b[0m model \u001b[38;5;241m=\u001b[39m LinearRegression()\n\u001b[1;32m----> 3\u001b[0m model\u001b[38;5;241m.\u001b[39mfit(X_train, y_train)\n",
      "\u001b[1;31mNameError\u001b[0m: name 'X_train' is not defined"
     ]
    }
   ],
   "source": [
    "from sklearn.linear_model import LinearRegression\n",
    "model = LinearRegression()\n",
    "model.fit(X_train, y_train)"
   ]
  },
  {
   "cell_type": "code",
   "execution_count": null,
   "id": "04afe814-201d-4321-b1c2-14d745891af9",
   "metadata": {},
   "outputs": [],
   "source": [
    "from sklearn.metrics import mean_squared_error\n",
    "y_pred = model.predict(X_test)\n",
    "\n",
    "# Evaluate the model using Mean Squared Error (MSE)\n",
    "mse = mean_squared_error(y_test, y_pred)\n",
    "print(\"Mean Squared Error:\", mse)"
   ]
  },
  {
   "cell_type": "code",
   "execution_count": 32,
   "id": "c03eef8e-46dc-4a0b-bc2a-a73fbd307f95",
   "metadata": {},
   "outputs": [
    {
     "data": {
      "text/html": [
       "<style>#sk-container-id-2 {color: black;background-color: white;}#sk-container-id-2 pre{padding: 0;}#sk-container-id-2 div.sk-toggleable {background-color: white;}#sk-container-id-2 label.sk-toggleable__label {cursor: pointer;display: block;width: 100%;margin-bottom: 0;padding: 0.3em;box-sizing: border-box;text-align: center;}#sk-container-id-2 label.sk-toggleable__label-arrow:before {content: \"▸\";float: left;margin-right: 0.25em;color: #696969;}#sk-container-id-2 label.sk-toggleable__label-arrow:hover:before {color: black;}#sk-container-id-2 div.sk-estimator:hover label.sk-toggleable__label-arrow:before {color: black;}#sk-container-id-2 div.sk-toggleable__content {max-height: 0;max-width: 0;overflow: hidden;text-align: left;background-color: #f0f8ff;}#sk-container-id-2 div.sk-toggleable__content pre {margin: 0.2em;color: black;border-radius: 0.25em;background-color: #f0f8ff;}#sk-container-id-2 input.sk-toggleable__control:checked~div.sk-toggleable__content {max-height: 200px;max-width: 100%;overflow: auto;}#sk-container-id-2 input.sk-toggleable__control:checked~label.sk-toggleable__label-arrow:before {content: \"▾\";}#sk-container-id-2 div.sk-estimator input.sk-toggleable__control:checked~label.sk-toggleable__label {background-color: #d4ebff;}#sk-container-id-2 div.sk-label input.sk-toggleable__control:checked~label.sk-toggleable__label {background-color: #d4ebff;}#sk-container-id-2 input.sk-hidden--visually {border: 0;clip: rect(1px 1px 1px 1px);clip: rect(1px, 1px, 1px, 1px);height: 1px;margin: -1px;overflow: hidden;padding: 0;position: absolute;width: 1px;}#sk-container-id-2 div.sk-estimator {font-family: monospace;background-color: #f0f8ff;border: 1px dotted black;border-radius: 0.25em;box-sizing: border-box;margin-bottom: 0.5em;}#sk-container-id-2 div.sk-estimator:hover {background-color: #d4ebff;}#sk-container-id-2 div.sk-parallel-item::after {content: \"\";width: 100%;border-bottom: 1px solid gray;flex-grow: 1;}#sk-container-id-2 div.sk-label:hover label.sk-toggleable__label {background-color: #d4ebff;}#sk-container-id-2 div.sk-serial::before {content: \"\";position: absolute;border-left: 1px solid gray;box-sizing: border-box;top: 0;bottom: 0;left: 50%;z-index: 0;}#sk-container-id-2 div.sk-serial {display: flex;flex-direction: column;align-items: center;background-color: white;padding-right: 0.2em;padding-left: 0.2em;position: relative;}#sk-container-id-2 div.sk-item {position: relative;z-index: 1;}#sk-container-id-2 div.sk-parallel {display: flex;align-items: stretch;justify-content: center;background-color: white;position: relative;}#sk-container-id-2 div.sk-item::before, #sk-container-id-2 div.sk-parallel-item::before {content: \"\";position: absolute;border-left: 1px solid gray;box-sizing: border-box;top: 0;bottom: 0;left: 50%;z-index: -1;}#sk-container-id-2 div.sk-parallel-item {display: flex;flex-direction: column;z-index: 1;position: relative;background-color: white;}#sk-container-id-2 div.sk-parallel-item:first-child::after {align-self: flex-end;width: 50%;}#sk-container-id-2 div.sk-parallel-item:last-child::after {align-self: flex-start;width: 50%;}#sk-container-id-2 div.sk-parallel-item:only-child::after {width: 0;}#sk-container-id-2 div.sk-dashed-wrapped {border: 1px dashed gray;margin: 0 0.4em 0.5em 0.4em;box-sizing: border-box;padding-bottom: 0.4em;background-color: white;}#sk-container-id-2 div.sk-label label {font-family: monospace;font-weight: bold;display: inline-block;line-height: 1.2em;}#sk-container-id-2 div.sk-label-container {text-align: center;}#sk-container-id-2 div.sk-container {/* jupyter's `normalize.less` sets `[hidden] { display: none; }` but bootstrap.min.css set `[hidden] { display: none !important; }` so we also need the `!important` here to be able to override the default hidden behavior on the sphinx rendered scikit-learn.org. See: https://github.com/scikit-learn/scikit-learn/issues/21755 */display: inline-block !important;position: relative;}#sk-container-id-2 div.sk-text-repr-fallback {display: none;}</style><div id=\"sk-container-id-2\" class=\"sk-top-container\"><div class=\"sk-text-repr-fallback\"><pre>DecisionTreeRegressor()</pre><b>In a Jupyter environment, please rerun this cell to show the HTML representation or trust the notebook. <br />On GitHub, the HTML representation is unable to render, please try loading this page with nbviewer.org.</b></div><div class=\"sk-container\" hidden><div class=\"sk-item\"><div class=\"sk-estimator sk-toggleable\"><input class=\"sk-toggleable__control sk-hidden--visually\" id=\"sk-estimator-id-2\" type=\"checkbox\" checked><label for=\"sk-estimator-id-2\" class=\"sk-toggleable__label sk-toggleable__label-arrow\">DecisionTreeRegressor</label><div class=\"sk-toggleable__content\"><pre>DecisionTreeRegressor()</pre></div></div></div></div></div>"
      ],
      "text/plain": [
       "DecisionTreeRegressor()"
      ]
     },
     "execution_count": 32,
     "metadata": {},
     "output_type": "execute_result"
    }
   ],
   "source": [
    "from sklearn.tree import DecisionTreeRegressor\n",
    "\n",
    "# Initialize and train the model\n",
    "decision_tree = DecisionTreeRegressor()\n",
    "decision_tree.fit(X_train, y_train)"
   ]
  },
  {
   "cell_type": "code",
   "execution_count": 33,
   "id": "aa4e01c0-5816-4a98-aad9-a1aad2fcd82f",
   "metadata": {},
   "outputs": [
    {
     "name": "stdout",
     "output_type": "stream",
     "text": [
      "Mean Squared Error (MSE): 243814328801860.7\n"
     ]
    }
   ],
   "source": [
    "from sklearn.metrics import mean_squared_error\n",
    "mse = mean_squared_error(y_test, y_pred)\n",
    "print(\"Mean Squared Error (MSE):\", mse)"
   ]
  },
  {
   "cell_type": "code",
   "execution_count": 34,
   "id": "08d6c07a",
   "metadata": {},
   "outputs": [],
   "source": [
    "import joblib"
   ]
  },
  {
   "cell_type": "code",
   "execution_count": 35,
   "id": "3dfea1e6",
   "metadata": {},
   "outputs": [],
   "source": [
    "file_name = 'cropmod'"
   ]
  },
  {
   "cell_type": "code",
   "execution_count": 36,
   "id": "d79ba94e",
   "metadata": {},
   "outputs": [
    {
     "data": {
      "text/plain": [
       "['cropmod']"
      ]
     },
     "execution_count": 36,
     "metadata": {},
     "output_type": "execute_result"
    }
   ],
   "source": [
    "joblib.dump(decision_tree,'cropmod')"
   ]
  },
  {
   "cell_type": "code",
   "execution_count": 45,
   "id": "60f61096",
   "metadata": {},
   "outputs": [
    {
     "name": "stderr",
     "output_type": "stream",
     "text": [
      "D:\\anaconda\\Lib\\site-packages\\sklearn\\base.py:439: UserWarning: X does not have valid feature names, but DecisionTreeRegressor was fitted with feature names\n",
      "  warnings.warn(\n"
     ]
    }
   ],
   "source": [
    "app = joblib.load('cropmod')\n",
    "arr = [[2024,25,45,42,250,40]]\n",
    "acc = app.predict(arr)"
   ]
  },
  {
   "cell_type": "code",
   "execution_count": 46,
   "id": "7ae733aa",
   "metadata": {},
   "outputs": [
    {
     "data": {
      "text/plain": [
       "array([4643.])"
      ]
     },
     "execution_count": 46,
     "metadata": {},
     "output_type": "execute_result"
    }
   ],
   "source": [
    "acc"
   ]
  },
  {
   "cell_type": "code",
   "execution_count": null,
   "id": "ec1eeb66",
   "metadata": {},
   "outputs": [],
   "source": []
  }
 ],
 "metadata": {
  "kernelspec": {
   "display_name": "Python 3 (ipykernel)",
   "language": "python",
   "name": "python3"
  },
  "language_info": {
   "codemirror_mode": {
    "name": "ipython",
    "version": 3
   },
   "file_extension": ".py",
   "mimetype": "text/x-python",
   "name": "python",
   "nbconvert_exporter": "python",
   "pygments_lexer": "ipython3",
   "version": "3.11.7"
  }
 },
 "nbformat": 4,
 "nbformat_minor": 5
}
